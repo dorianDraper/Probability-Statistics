{
 "cells": [
  {
   "cell_type": "markdown",
   "id": "27f98821-ec76-4c61-94df-2032ffbd6827",
   "metadata": {},
   "source": [
    "<span style=\"font-family:Comic Sans MS; color:#CD5C5C; font-size: 30px\">Normal Distribution problems</span>"
   ]
  },
  {
   "cell_type": "markdown",
   "id": "36a547f1-3342-4353-a87c-e3a20d54d6a2",
   "metadata": {},
   "source": [
    "This calculus problem provides a basic introduction into normal distribution and probability. It explains how to solve normal distribution problems using a simple chart and using calculus by evaluating the definite integral of the probability density function for a bell shaped curve or normal distribution curve. We need to determine the population mean mu and standard deviation sigma as well as the lower and upper limits of integration in order to determine the probability of an event occurring within a certain range of X values where X is a continuous random variable. Content:\n",
    "\n",
    "The 68-95-99.7 rule. Approximately 68% of the population lies within 1 standard deviation of the population mean or average. 95% of the population lies within 2 standard deviations of the mean and 99.7% lies within 3 standard deviations of the mean.\n",
    "\n",
    "<img src=\"./Pics/normal-distribution1.png\" width=\"600\" height=\"450\" />\n",
    "\n",
    "- <strong>68.2668 / 2 = <span style=\"color: red\">34.134%</span></strong>  >> which is the percentage of finding an event between the mean (mu) and the first standard deviation in both sides (because we are dealing with bell curve and have symmetry).\n",
    "- <strong>95.45 - 68.268 = 27.182 >> 27.182 / 2 = <span style=\"color: blue\">13.591%</span></strong>  >> which is the percentage of an event happening between the first and the second standard deviation of each side.\n",
    "- <strong>99.73 - 95.45 = 4.28  >> 4.28 / 2 = <span style=\"color: green\">2.14%</span></strong>  >> percentage event happening between the second and the third standard deviation\n",
    "- To find the percentage that goes in the next regions, take in mind a total percentage from negative infinity to infinity is hundred percent, so take <strong>100 - 99.73 = 0.27  >> 0.27 / 2 = <span style=\"color: red\">0.135%</span></strong>\n",
    "- Remember that mu represents the population mean and sigma is the standard deviation. Due to the probability an event happening from negative infinity to infinitive is 100% which means that the total area of this curve is 1, so we sum up all these numbers (34.134 + 13.591 + 2.14...) we get 100%, and each side is 0.50."
   ]
  },
  {
   "cell_type": "markdown",
   "id": "9f20521b-f328-45a4-a0c7-06fbabfc5b27",
   "metadata": {},
   "source": [
    "<h3 style=\"color: yellow\">Exercise 1: The test scores of a physics class with 800 students are distributed normally with a mean of 75 and a standard deviation of 7.</h3>\n",
    "<img src=\"./Pics/exercise1.png\" width=\"600\" height=\"450\"/>\n",
    "<br>\n",
    "<strong><span style=\"color: yellow\">What percentage of students scored between 68 and 82?</span></strong>"
   ]
  },
  {
   "cell_type": "code",
   "execution_count": 2,
   "id": "f2aac004-8bbb-475a-8502-506479ec6c1b",
   "metadata": {},
   "outputs": [
    {
     "name": "stdout",
     "output_type": "stream",
     "text": [
      "68.26894921370858% of the students scored between 68 and 82\n",
      " \n"
     ]
    }
   ],
   "source": [
    "import numpy as np \n",
    "import scipy.stats as stats\n",
    "\n",
    "mean = 75\n",
    "std_dev = 7\n",
    "x1 = 68\n",
    "x2 = 82\n",
    "cdf_x1 = stats.norm.cdf(x1, mean, std_dev)\n",
    "cdf_x2 = stats.norm.cdf(x2, mean, std_dev)\n",
    "percentage = (cdf_x2 - cdf_x1) * 100\n",
    "print(f'{percentage}% of the students scored between 68 and 82')\n",
    "print(' ')"
   ]
  },
  {
   "cell_type": "markdown",
   "id": "6d87ecef-5e78-489c-8bcd-59a75848146c",
   "metadata": {},
   "source": [
    "<strong><span style=\"color: yellow\">How many students have test score between 61 and 89?</span></strong>"
   ]
  },
  {
   "cell_type": "code",
   "execution_count": 4,
   "id": "b559110b-4360-4799-9be9-e49f8652fddd",
   "metadata": {},
   "outputs": [
    {
     "name": "stdout",
     "output_type": "stream",
     "text": [
      "95.44997361036415% of the students scored between 61 and 89 which means a total of 764 students\n",
      " \n"
     ]
    }
   ],
   "source": [
    "x1 = 61\n",
    "x2 = 89\n",
    "cdf_x1 = stats.norm.cdf(x1, mean, std_dev)\n",
    "cdf_x2 = stats.norm.cdf(x2, mean, std_dev)\n",
    "percentage = (cdf_x2 - cdf_x1) * 100\n",
    "students_number = (cdf_x2 - cdf_x1) * 800\n",
    "print(f'{percentage}% of the students scored between 61 and 89 which means a total of {round(students_number)} students')\n",
    "print(' ')"
   ]
  },
  {
   "cell_type": "markdown",
   "id": "583e335e-9d1e-4ce3-ab65-23f846119042",
   "metadata": {},
   "source": [
    "<strong><span style=\"color: yellow\">What is the probability that a student chosen at random has a test score between 54 and 75?</span></strong>"
   ]
  },
  {
   "cell_type": "code",
   "execution_count": 10,
   "id": "81d9ba66-ff36-4256-a813-cf593c048bf0",
   "metadata": {},
   "outputs": [
    {
     "name": "stdout",
     "output_type": "stream",
     "text": [
      "The probability that a student chosen at random has a test score between 54 and 75 is 0.4986501019683699\n"
     ]
    }
   ],
   "source": [
    "x1 = 54\n",
    "x2 = 75\n",
    "cdf_x1 = stats.norm.cdf(x1, mean, std_dev)\n",
    "cdf_x2 = stats.norm.cdf(x2, mean, std_dev)\n",
    "probability = (cdf_x2 - cdf_x1)\n",
    "print(f'The probability that a student chosen at random has a test score between 54 and 75 is {probability}')"
   ]
  },
  {
   "cell_type": "markdown",
   "id": "665ce9af-ad5b-4f37-b4c1-d98969a9a5db",
   "metadata": {},
   "source": [
    "<strong><span style=\"color: yellow\">Approximately how many students have a test score greater than or equal to 96?</span></strong>"
   ]
  },
  {
   "cell_type": "code",
   "execution_count": 11,
   "id": "dbd06b02-8c41-43a7-9d13-67eafceaf8f2",
   "metadata": {},
   "outputs": [
    {
     "name": "stdout",
     "output_type": "stream",
     "text": [
      "1 student(s) have a test score greater than or equal to 96\n",
      " \n"
     ]
    }
   ],
   "source": [
    "x = 96 \n",
    "cdf_x = stats.norm.cdf(x, mean, std_dev)\n",
    "students_number = (1 - cdf_x) * 800\n",
    "print(f'{round(students_number)} student(s) have a test score greater than or equal to 96')\n",
    "print(' ')"
   ]
  },
  {
   "cell_type": "markdown",
   "id": "0a48ca30-9622-4fb0-8127-ee00a167393e",
   "metadata": {},
   "source": [
    "<strong><span style=\"color: yellow\">Plot the results using a histogram</span></strong>"
   ]
  },
  {
   "cell_type": "code",
   "execution_count": 12,
   "id": "b610525d-af4d-4295-a416-1f8004f399aa",
   "metadata": {},
   "outputs": [
    {
     "data": {
      "text/plain": [
       "<Axes: ylabel='Count'>"
      ]
     },
     "execution_count": 12,
     "metadata": {},
     "output_type": "execute_result"
    },
    {
     "data": {
      "image/png": "[encoded data removed]",
      "text/plain": [
       "<Figure size 640x480 with 1 Axes>"
      ]
     },
     "metadata": {},
     "output_type": "display_data"
    }
   ],
   "source": [
    "import matplotlib.pyplot as plt\n",
    "import seaborn as sns\n",
    "import pandas as pd\n",
    "\n",
    "data = np.random.normal(mean, std_dev, 800)\n",
    "df = pd.DataFrame(data, columns=['Test Score'])\n",
    "sns.histplot(df, kde=True)  \n",
    "# using seaborn which is python data visualization library, we use kde=True argument adds a Kernel Density Estimate (KDE) plot which is a way to\n",
    "# estimate the probability density function (PDF) of a continuous variable. It uses Gaussian kernel and includes automatic bandwidth determination"
   ]
  }
 ],
 "metadata": {
  "kernelspec": {
   "display_name": "Python 3 (ipykernel)",
   "language": "python",
   "name": "python3"
  },
  "language_info": {
   "codemirror_mode": {
    "name": "ipython",
    "version": 3
   },
   "file_extension": ".py",
   "mimetype": "text/x-python",
   "name": "python",
   "nbconvert_exporter": "python",
   "pygments_lexer": "ipython3",
   "version": "3.11.3"
  }
 },
 "nbformat": 4,
 "nbformat_minor": 5
}
